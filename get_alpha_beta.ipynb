{
 "cells": [
  {
   "cell_type": "code",
   "execution_count": 1,
   "metadata": {},
   "outputs": [
    {
     "name": "stdout",
     "output_type": "stream",
     "text": [
      "NVDA: Alpha = 0.020662156699603418, Beta = 1.776697133592898\n",
      "AAPL: Alpha = 0.009573468996352006, Beta = 1.1942539513785706\n",
      "MSFT: Alpha = 0.00960983626236518, Beta = 0.8809099533150359\n",
      "GOOGL: Alpha = 0.002101569511902276, Beta = 1.0266017458275114\n",
      "AMZN: Alpha = 0.0006648477817428752, Beta = 1.1774411380379646\n",
      "META: Alpha = 0.0014881684449506928, Beta = 1.187115517803623\n",
      "TSLA: Alpha = 0.014811992754853712, Beta = 1.80867564514114\n",
      "BRK-B: Alpha = 0.0006290464983159949, Beta = 0.8540765085959384\n",
      "JNJ: Alpha = -0.0027800333502016614, Beta = 0.5261673003825258\n",
      "V: Alpha = 0.0022644041878425595, Beta = 0.8959661398160824\n"
     ]
    }
   ],
   "source": [
    "import numpy as np\n",
    "import pandas as pd\n",
    "import statsmodels.api as sm\n",
    "\n",
    "# Load the Excel workbook into a DataFrame\n",
    "df = pd.read_excel('stock_data_with_log.xlsx')\n",
    "\n",
    "# Define the list of stock tickers\n",
    "tickers = ['NVDA', 'AAPL', 'MSFT', 'GOOGL', 'AMZN', 'META', 'TSLA', 'BRK-B', 'JNJ', 'V']\n",
    "\n",
    "# Calculate log returns for each stock if not already calculated\n",
    "log_returns = {}\n",
    "for ticker in tickers:\n",
    "    if df[f'{ticker}_Log_Return'].isnull().all():\n",
    "        df[f'{ticker}_Log_Return'] = np.log(df[f'{ticker}_Adj_Close'] / df[f'{ticker}_Adj_Close'].shift(1))\n",
    "    log_returns[ticker] = df[f'{ticker}_Log_Return']\n",
    "\n",
    "# Calculate log returns for the market index (SPY)\n",
    "if df['SPY_Log_Return'].isnull().all():\n",
    "    df['SPY_Log_Return'] = np.log(df['SPY_Adj_Close'] / df['SPY_Adj_Close'].shift(1))\n",
    "log_returns['SPY'] = df['SPY_Log_Return']\n",
    "\n",
    "# Drop the first row with NaN values due to shift operation\n",
    "df.dropna(inplace=True)\n",
    "\n",
    "# Calculate excess returns (subtracting the risk-free rate)\n",
    "for ticker in tickers:\n",
    "    df[f'{ticker}_Excess_Return'] = df[f'{ticker}_Log_Return'] - df['1M_TBill_Rate'] / 12\n",
    "df['SPY_Excess_Return'] = df['SPY_Log_Return'] - df['1M_TBill_Rate'] / 12\n",
    "\n",
    "# Initialize dictionaries to store alpha and beta values\n",
    "alpha = {}\n",
    "beta = {}\n",
    "\n",
    "# Perform linear regression to obtain alpha and beta for each stock\n",
    "for ticker in tickers:\n",
    "    X = df['SPY_Excess_Return']\n",
    "    Y = df[f'{ticker}_Excess_Return']\n",
    "    X = sm.add_constant(X)  # Add a constant term for the intercept\n",
    "    model = sm.OLS(Y, X).fit()\n",
    "    alpha[ticker] = model.params['const']\n",
    "    beta[ticker] = model.params['SPY_Excess_Return']\n",
    "\n",
    "# Display the alpha and beta values\n",
    "for ticker in tickers:\n",
    "    print(f'{ticker}: Alpha = {alpha[ticker]}, Beta = {beta[ticker]}')"
   ]
  },
  {
   "cell_type": "code",
   "execution_count": 3,
   "metadata": {},
   "outputs": [
    {
     "name": "stdout",
     "output_type": "stream",
     "text": [
      "  Ticker     Alpha      Beta\n",
      "0   NVDA  0.020662  1.776697\n",
      "1   AAPL  0.009573  1.194254\n",
      "2   MSFT  0.009610  0.880910\n",
      "3  GOOGL  0.002102  1.026602\n",
      "4   AMZN  0.000665  1.177441\n",
      "5   META  0.001488  1.187116\n",
      "6   TSLA  0.014812  1.808676\n",
      "7  BRK-B  0.000629  0.854077\n",
      "8    JNJ -0.002780  0.526167\n",
      "9      V  0.002264  0.895966\n"
     ]
    }
   ],
   "source": [
    "# Create a DataFrame for alpha and beta values\n",
    "alpha_beta_df = pd.DataFrame({\n",
    "    'Ticker': tickers,\n",
    "    'Alpha': [alpha[ticker] for ticker in tickers],\n",
    "    'Beta': [beta[ticker] for ticker in tickers]\n",
    "})\n",
    "\n",
    "# Load the existing Excel workbook and add the alpha and beta values to a new sheet\n",
    "with pd.ExcelWriter('stock_data_with_log.xlsx', engine='openpyxl', mode='a') as writer:\n",
    "    alpha_beta_df.to_excel(writer, sheet_name='Alpha_Beta', index=False)\n",
    "\n",
    "# Display the alpha and beta values\n",
    "print(alpha_beta_df)"
   ]
  }
 ],
 "metadata": {
  "kernelspec": {
   "display_name": "Python 3",
   "language": "python",
   "name": "python3"
  },
  "language_info": {
   "codemirror_mode": {
    "name": "ipython",
    "version": 3
   },
   "file_extension": ".py",
   "mimetype": "text/x-python",
   "name": "python",
   "nbconvert_exporter": "python",
   "pygments_lexer": "ipython3",
   "version": "3.12.4"
  }
 },
 "nbformat": 4,
 "nbformat_minor": 2
}
